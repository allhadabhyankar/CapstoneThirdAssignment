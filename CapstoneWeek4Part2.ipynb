{
 "cells": [
  {
   "cell_type": "code",
   "execution_count": null,
   "metadata": {},
   "outputs": [],
   "source": []
  },
  {
   "cell_type": "markdown",
   "metadata": {},
   "source": [
    "<h1><center>IBM Data Science Capstone Project Final Submission</center></h1>"
   ]
  },
  {
   "cell_type": "markdown",
   "metadata": {},
   "source": [
    "<h4> <center>This is the final submission in the IBM Data Science Capstone Project</center> </h4>"
   ]
  },
  {
   "cell_type": "markdown",
   "metadata": {},
   "source": [
    "<h2> Week 4 Submission <h2> "
   ]
  },
  {
   "cell_type": "markdown",
   "metadata": {},
   "source": [
    "<body>\n",
    "    <h3> Data Collection </h3>\n",
    "    <h5><p>Since the client asked variety of data and there is no single source for collecting such data. Various sources are available to get data. Here is are some of the sources of data</p>\n",
    "    </h5>\n",
    "       <table>\n",
    "            <tr><th>Data Required</th>\n",
    "                <th colspan = \"1\">Data Source</th>\n",
    "                <th colspan = \"1\">Link </th>\n",
    "            </tr>\n",
    "            <tr>            \n",
    "                <td>Population and Demographics</td>\n",
    "                <td> Wikipedia Page </td>\n",
    "                <td> <a href = \"https://en.wikipedia.org/wiki/Demographics_of_Canada\">Wikipedia page</a></td>\n",
    "            </tr>   \n",
    "            <tr>            \n",
    "                <td>Downtown Neighborhoods</td>\n",
    "                <td> Wikipedia Page </td>\n",
    "                <td> <a href = \"https://en.wikipedia.org/wiki/Downtown_Toronto\">Wikipedia page</a></td>\n",
    "            </tr> \n",
    "            <tr>            \n",
    "                <td>Crime Rate</td>\n",
    "                <td> Open Data from Various Cities </td>\n",
    "                <td> <a href = \"https://data.calgary.ca/\">Calgary open data</a></td>\n",
    "            </tr>        \n",
    "            <tr>            \n",
    "                <td>Venues and likes in downtown of cities</td>\n",
    "                <td> Foursquare API </td>\n",
    "                <td> <a href = \"https://developer.foursquare.com/docs/api/endpoints\">Foursquare page</a></td>\n",
    "            </tr> \n",
    "            <tr>            \n",
    "                <td>Rental Prices from downtown to various cities</td>\n",
    "                <td> Rental Websites like Space lease, kijiji </td>\n",
    "                <td> <a href = \"https://www.spacelist.ca/listings/ab/calgary\">Spacelist page</a></td>\n",
    "            </tr>         \n",
    "         </table>\n",
    "<body>\n",
    "        "
   ]
  },
  {
   "cell_type": "markdown",
   "metadata": {},
   "source": [
    "<h4>In this assignment, we will\n",
    "    <ol>\n",
    "        <li>Describe the problem statement as provided by the client</li>\n",
    "        <li>We have collect data on: </li>\n",
    "        <ul><li>population and demographics in various metropolitan cities in Canada, </li>\n",
    "            <li>downtown neighborhoods in various cities in Canada </li>\n",
    "            <li>Crime rate in these cities</li>\n",
    "            <li>Various venues in this cities</li>\n",
    "            <li>and lastly, Rental prices for retail location in these cities</li>\n",
    "        </ul>\n",
    "        <li>The next step would be:\n",
    "            <ul>\n",
    "                <li>Create histogram of population and demographics of these cities</li>\n",
    "                <li>based on the crime rate, cluster the data on crime and types of crime in downtown</li>\n",
    "                <li>find an ideal location with low crime rate</li>\n",
    "                <li>based on data from venues, get the popularity of Italian cuisine in the cities</li>\n",
    "                <li>and lastly, using linear regression, estimate the rent of retail location</li>\n",
    "            </ul>\n",
    "        <li> The steps that will be followed are:\n",
    "            <ul><li>Business Understanding\n",
    "                <li>Analytic Approach\n",
    "                <li>Data Collection\n",
    "                <li>Data Understanding\n",
    "                <li>Data Preparation (cleaning)\n",
    "                <li>Modeling\n",
    "                <li>Evaluation\n",
    "                <li>Deployment and feedback should follow\n",
    "            </ul>\n",
    "        <li>Since this is a test project, Deployment and feedback are not possible</li>\n",
    "        <li>A final report will be created to explain the complete project</li>\n",
    "    </ol></h4>"
   ]
  },
  {
   "cell_type": "code",
   "execution_count": null,
   "metadata": {},
   "outputs": [],
   "source": []
  }
 ],
 "metadata": {
  "kernelspec": {
   "display_name": "Python",
   "language": "python",
   "name": "conda-env-python-py"
  },
  "language_info": {
   "codemirror_mode": {
    "name": "ipython",
    "version": 3
   },
   "file_extension": ".py",
   "mimetype": "text/x-python",
   "name": "python",
   "nbconvert_exporter": "python",
   "pygments_lexer": "ipython3",
   "version": "3.6.7"
  }
 },
 "nbformat": 4,
 "nbformat_minor": 4
}
