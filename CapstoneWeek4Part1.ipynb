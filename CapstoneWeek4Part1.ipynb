{
 "cells": [
  {
   "cell_type": "markdown",
   "metadata": {},
   "source": [
    "<h1><center>IBM Data Science Capstone Project Final Submission</center></h1>"
   ]
  },
  {
   "cell_type": "markdown",
   "metadata": {},
   "source": [
    "<h4> <center>This is the final submission in the IBM Data Science Capstone Project</center> </h4>"
   ]
  },
  {
   "cell_type": "markdown",
   "metadata": {},
   "source": [
    "<h2> Week 4 Submission <h2> "
   ]
  },
  {
   "cell_type": "markdown",
   "metadata": {},
   "source": [
    "<h3>Business Understanding</h3>\n",
    "<h5> For this project we are doing a case study on an Italian immigrant moving to Canada. He is a entrepreneur who want to start an Italian restaurant in Canada that serves authentic home cooked style meal rather than commercial chain.\n",
    "    <p>The requirements that were specified by the client are as follows, </p>\n",
    "    <ol>\n",
    "        <li>Client wants to open his restaurant in one of the five largest city by Population. </li>\n",
    "        <li>Client wants to know the open his restaurant in or near downtown area.</li>\n",
    "        <li>Client wants to know the Italian restaurants nearby to gage competition.</li>\n",
    "        <li>Client wants to know how the existing Italian restaurant are performing. </li>\n",
    "        <li>Client wants to know the Italian (country of origin) population as he will be serving Italian home cooked meal.</li>        \n",
    "        <li>Client wants to know the estimated rental price of the restaurant place (area is approximately 1000 -1500 sq.ft).</li>\n",
    "        <li>Client wants to know the crime rate in the downtown areas to know if its safe.</li>\n",
    "    </ol>"
   ]
  },
  {
   "cell_type": "markdown",
   "metadata": {},
   "source": [
    "<h3>Analytic Approach</h3>\n",
    "<h5>From the requirements given by the client, our job is to find a city and place where our client can successfully open and run his Italian restaurant. For this we need to collect data from various sources on the population data,and people of Italian origin , what areas constitute as downtown, crime data in these area, find the trends and like for restaurants in the downtown are and lastly estimate the rental price for a space 1000 sq.ft to 1500 sq.ft\n",
    "The approach chosen is as follows:\n",
    "    <ol>\n",
    "        <li>Collect population size of 5 largest cities in Canada and population demographics for Italian origin people. This will give us insight into possible customer flow for our client.</li>\n",
    "        <li>List of neighborhood in these cities in the downtown.Use clustering method.</li>\n",
    "        <li>Get the crime rate data for these areas. Use clustering method to group crimes.</li>\n",
    "        <li>Existing Italian restaurant in these neighborhood and like they received. Use statistical method.</li>\n",
    "        <li>Estimate rental prices based on square foot area and estimate the price for restaurant.Use statistical method use linear regression</li>        \n",
    "    </ol>\n",
    "</h5>"
   ]
  },
  {
   "cell_type": "markdown",
   "metadata": {},
   "source": [
    "<h3>Data Requirement</h3>\n",
    "<h5>The required data for this analysis \n",
    "    <ol>\n",
    "        <li>Population and demographic data for various cities in Canada</li>\n",
    "        <li>List of neighborhoods in cities in Canada</li>\n",
    "        <li>Data on crime rates from the given cities</li>\n",
    "        <li>Data on Italian restaurant and likes they received </li>\n",
    "        <li>Data on rental price of commercial location in downtown of these cities </li>\n",
    "    </ol></h5>"
   ]
  }
 ],
 "metadata": {
  "kernelspec": {
   "display_name": "Python",
   "language": "python",
   "name": "conda-env-python-py"
  },
  "language_info": {
   "codemirror_mode": {
    "name": "ipython",
    "version": 3
   },
   "file_extension": ".py",
   "mimetype": "text/x-python",
   "name": "python",
   "nbconvert_exporter": "python",
   "pygments_lexer": "ipython3",
   "version": "3.6.7"
  }
 },
 "nbformat": 4,
 "nbformat_minor": 4
}
